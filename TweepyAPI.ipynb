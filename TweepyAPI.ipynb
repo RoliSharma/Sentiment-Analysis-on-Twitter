{
 "cells": [
  {
   "cell_type": "markdown",
   "metadata": {},
   "source": [
    "# Extracting data from twitter using Tweepy API"
   ]
  },
  {
   "cell_type": "code",
   "execution_count": 4,
   "metadata": {},
   "outputs": [
    {
     "name": "stdout",
     "output_type": "stream",
     "text": [
      "Captain- “Ladies and Gentlemen, we're now landing.”\n",
      "A soul-crushing story of homecoming turned into tragedy.'Vande… https://t.co/Vw5RUneIMe\n",
      "हमें अब किसानों को ऐसे विकल्प देने हैं जिसमें वो गेहूं-चावल उगाने तक ही सीमित न रहे।\n",
      "\n",
      "ऑर्गेनिक फूड से लेकर सलाद से… https://t.co/94GW5YK3Bv\n",
      "एग्रीकल्चर सेक्टर में R&amp;D को लेकर ज्यादातर योगदान पब्लिक सेक्टर का ही है।\n",
      "\n",
      "अब समय आ गया है कि इसमें प्राइवेट सेक्टर… https://t.co/kPk10pePAS\n",
      "ऑपरेशन ग्रीन्स योजना के तहत किसान रेल के लिए सभी फलों और सब्जियों के परिवहन पर 50 प्रतिशत सब्सिडी दी जा रही है।\n",
      "\n",
      "कि… https://t.co/7FPxp203Nz\n",
      "हमें देश के एग्रीकल्चर सेक्टर का, Processed Food के वैश्विक मार्केट में विस्तार करना ही होगा।\n",
      "\n",
      "हमें गांव के पास ही… https://t.co/OsIB5ysnJw\n",
      "खेत से Processing Unit तक पहुंचने की व्यवस्था सुधारी जाए,\n",
      "\n",
      "Processing unit की हैंड होल्डिंग, Farmer Producer Organi… https://t.co/w5PGCQs3o5\n",
      "आज हमें एग्रीकल्चर के हर सेक्टर में, हर खाद्यान्न, हर सब्जी, फल, फिशरीज, सभी में Processing पर सबसे ज्यादा फोकस कर… https://t.co/EXOBZGBYY6\n",
      "लगातार बढ़ते हुए कृषि उत्पादन के बीच, 21वीं सदी में भारत को Post Harvest क्रांति या फिर Food Processing क्रांति और… https://t.co/kpRhXLXEzj\n",
      "Watch Live https://t.co/L4Kd6qfLCX\n",
      "Speaking on the steps taken for agriculture in this year’s Budget. https://t.co/XAGnbtTd0y\n",
      "Best wishes to Bihar CM @NitishKumar Ji on his birthday. Under his leadership the NDA Government in Bihar is undert… https://t.co/p406h5hyt5\n",
      "Auto-abort at T-1:24 ahead of tonight's Falcon 9 launch of Starlink; next launch opportunity is tomorrow, March 1 at 8:15 p.m. EST\n",
      "Took my first dose of the COVID-19 vaccine at AIIMS. \n",
      "\n",
      "Remarkable how our doctors and scientists have worked in qui… https://t.co/BRITi5BPrX\n",
      "Throughout #BlackHistoryMonth, we've celebrated the accomplishments and contributions of African Americans across t… https://t.co/hfpFjHL1KA\n",
      "Last month, Starlinks were deployed to the Wise County Public School District in rural Virginia, where ~40% of stud… https://t.co/o10pg0YpIH\n",
      "At a time when more people are working from home and more students are participating in virtual learning, internet… https://t.co/w7qiI1XxdH\n",
      "Watch Falcon 9 launch 60 Starlink satellites to orbit → https://t.co/bJFjLCzWdK https://t.co/tUKSoNMUl9\n",
      "\"I came to understand later that there was some skepticism that I could do design engineering...So, every hard prob… https://t.co/qI2ZCFZDF5\n",
      "😮 How it looked when @NASAPersevere landed on Mars\n",
      "🌌 Astronauts on the @Space_Station prepared for a pair of spacew… https://t.co/QNvI6gRFdE\n",
      "Helmets and gloves are coming off as @AstroVicGlover and Kate Rubins begin to take off their spacesuits, assisted b… https://t.co/RPaDfLrmya\n"
     ]
    }
   ],
   "source": [
    "import tweepy\n",
    "\n",
    "access_token=\"1306511356775010305-RW0inFN6dMQgYsaCNel5CcNtgO7aRT\"\n",
    "access_token_secret=\"R6KXPDe1qOjNj8yt0sup0jh80eTKkODi9hGvnIlSN9kWx\"\n",
    "consumer_key=\"Jafhqf236ZtyL3x2rvwuSn7pE\"\n",
    "consumer_secret=\"G4P7vp4mFUFJ66l4Jwh2BKOnFQnBrbISSyCV9RfiPkH8FhX93j\"\n",
    "\n",
    "auth = tweepy.OAuthHandler(consumer_key, consumer_secret)\n",
    "auth.set_access_token(access_token, access_token_secret)\n",
    "\n",
    "api = tweepy.API(auth)\n",
    "\n",
    "public_tweets = api.home_timeline()\n",
    "for tweet in public_tweets:\n",
    "    print(tweet.text)"
   ]
  },
  {
   "cell_type": "code",
   "execution_count": null,
   "metadata": {},
   "outputs": [],
   "source": []
  },
  {
   "cell_type": "code",
   "execution_count": null,
   "metadata": {},
   "outputs": [],
   "source": []
  }
 ],
 "metadata": {
  "kernelspec": {
   "display_name": "Python 3",
   "language": "python",
   "name": "python3"
  },
  "language_info": {
   "codemirror_mode": {
    "name": "ipython",
    "version": 3
   },
   "file_extension": ".py",
   "mimetype": "text/x-python",
   "name": "python",
   "nbconvert_exporter": "python",
   "pygments_lexer": "ipython3",
   "version": "3.8.5"
  }
 },
 "nbformat": 4,
 "nbformat_minor": 4
}
